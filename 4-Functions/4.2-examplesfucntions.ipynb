{
 "cells": [
  {
   "cell_type": "code",
   "execution_count": 2,
   "metadata": {},
   "outputs": [
    {
     "name": "stdout",
     "output_type": "stream",
     "text": [
      "77.0\n",
      "25.0\n"
     ]
    }
   ],
   "source": [
    "## Example Temperature conversion\n",
    "\n",
    "def covert_temperature(temp, unit):\n",
    "    \"\"\"This function converts between Celcius and Fahrenhite\"\"\"\n",
    "    if unit == 'C':\n",
    "        return temp * 9/5 + 32 ## Celcius to Fahrenhite\n",
    "    elif unit == 'F':\n",
    "        return (temp-32)*5/9 ## Fahrenhite to Celcius\n",
    "    else:\n",
    "        return 'NONE'\n",
    "\n",
    "print(covert_temperature(25, 'C'))\n",
    "print(covert_temperature(77, 'F'))\n",
    "\n",
    "    "
   ]
  },
  {
   "cell_type": "code",
   "execution_count": 17,
   "metadata": {},
   "outputs": [
    {
     "name": "stdout",
     "output_type": "stream",
     "text": [
      "False\n"
     ]
    }
   ],
   "source": [
    "## Password Strength Checker\n",
    "def is_strong_password(password):\n",
    "    \"\"\"This function checks whether the password is strong or not\"\"\"\n",
    "    if len(password) < 8:\n",
    "        return False\n",
    "    if not any(char.isdigit() for char in password):\n",
    "        return False\n",
    "    if not any(char.islower() for char in password):\n",
    "        return False\n",
    "    if not any(char.isupper() for char in password):\n",
    "        return False\n",
    "    if not any(char in '!@#$*' for char in password):\n",
    "        return False\n",
    "    return True\n",
    "    \n",
    "##Calling the function\n",
    "print(is_strong_password('WeakPwd'))"
   ]
  },
  {
   "cell_type": "code",
   "execution_count": 18,
   "metadata": {},
   "outputs": [
    {
     "name": "stdout",
     "output_type": "stream",
     "text": [
      "10.0\n"
     ]
    }
   ],
   "source": [
    "## Calculate total price of items in a shopping cart\n",
    "def calculate_total(items):\n",
    "    \"\"\"This function calculates the total price of items in a shopping cart\"\"\"\n",
    "    total = 0\n",
    "    for item in items:\n",
    "        total += item['price'] * item['quantity']\n",
    "    return total\n",
    "    \n",
    "##Calling the function\n",
    "print(calculate_total([{'name': 'Apple', 'price': 1.00, 'quantity': 5}, {'name': 'Banana', 'price': 0.50, 'quantity': 10}]))\n"
   ]
  },
  {
   "cell_type": "code",
   "execution_count": 19,
   "metadata": {},
   "outputs": [
    {
     "name": "stdout",
     "output_type": "stream",
     "text": [
      "True\n"
     ]
    }
   ],
   "source": [
    "## Check if a number is palindrome\n",
    "def is_palindrome(number):\n",
    "    \"\"\"This function checks whether the number is palindrome or not\"\"\"\n",
    "    return str(number) == str(number)[::-1]\n",
    "    \n",
    "##Calling the function\n",
    "print(is_palindrome(12321))"
   ]
  },
  {
   "cell_type": "code",
   "execution_count": 20,
   "metadata": {},
   "outputs": [
    {
     "name": "stdout",
     "output_type": "stream",
     "text": [
      "120\n",
      "15\n"
     ]
    }
   ],
   "source": [
    "## calculate the factorial of a number\n",
    "def factorial(n):\n",
    "    \"\"\"This function calculates the factorial of a number\"\"\"\n",
    "    if n == 0:\n",
    "        return 1\n",
    "    return n * factorial(n-1)\n",
    "    \n",
    "##Calling the function\n",
    "print(factorial(5))\n",
    "\n",
    "## Calculate the sum of all numbers in a list\n",
    "def sum_of_numbers(numbers):\n",
    "    \"\"\"This function calculates the sum of all numbers in a list\"\"\"\n",
    "    return sum(numbers)\n",
    "##Calling the function  \n",
    "print(sum_of_numbers([1, 2, 3, 4, 5]))\n",
    "\n",
    "    \n",
    "    "
   ]
  },
  {
   "cell_type": "code",
   "execution_count": 21,
   "metadata": {},
   "outputs": [
    {
     "name": "stdout",
     "output_type": "stream",
     "text": [
      "True\n",
      "False\n"
     ]
    }
   ],
   "source": [
    "## Validate an email address\n",
    "def validate_email(email):\n",
    "    \"\"\"This function validates an email address\"\"\"\n",
    "    if '@' in email and '.' in email:\n",
    "        return True\n",
    "    return False\n",
    "    \n",
    "##Calling the function\n",
    "print(validate_email('test@example.com'))\n",
    "print(validate_email('invalid-email'))\n"
   ]
  },
  {
   "cell_type": "code",
   "execution_count": null,
   "metadata": {},
   "outputs": [],
   "source": []
  }
 ],
 "metadata": {
  "kernelspec": {
   "display_name": "Python 3",
   "language": "python",
   "name": "python3"
  },
  "language_info": {
   "codemirror_mode": {
    "name": "ipython",
    "version": 3
   },
   "file_extension": ".py",
   "mimetype": "text/x-python",
   "name": "python",
   "nbconvert_exporter": "python",
   "pygments_lexer": "ipython3",
   "version": "3.12.0"
  }
 },
 "nbformat": 4,
 "nbformat_minor": 2
}
