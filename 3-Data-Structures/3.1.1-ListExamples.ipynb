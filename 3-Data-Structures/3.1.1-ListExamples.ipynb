{
 "cells": [
  {
   "cell_type": "code",
   "execution_count": 1,
   "metadata": {},
   "outputs": [
    {
     "name": "stdout",
     "output_type": "stream",
     "text": [
      "Pending to do list\n",
      "Buy Groceries\n",
      "Finish Lesson\n",
      "Schedule Meeting\n",
      "Go for a run\n"
     ]
    }
   ],
   "source": [
    "to_do_list = ['Buy Groceries', 'Finish Lesson', 'Buy Flowers']\n",
    "\n",
    "to_do_list.append('Schedule Meeting')\n",
    "\n",
    "to_do_list.append('Go for a run')\n",
    "\n",
    "## Remove items from the list\n",
    "\n",
    "to_do_list.remove('Buy Flowers')\n",
    "\n",
    "##Checking if a task in the list\n",
    "\n",
    "if \"Buy Flowers\" in to_do_list:\n",
    "    print('do not fogot to buy flowers')\n",
    "\n",
    "print('Pending to do list')\n",
    "\n",
    "for task in to_do_list:\n",
    "    print(task)"
   ]
  },
  {
   "cell_type": "code",
   "execution_count": null,
   "metadata": {},
   "outputs": [],
   "source": [
    "\"\""
   ]
  }
 ],
 "metadata": {
  "kernelspec": {
   "display_name": "Python 3",
   "language": "python",
   "name": "python3"
  },
  "language_info": {
   "codemirror_mode": {
    "name": "ipython",
    "version": 3
   },
   "file_extension": ".py",
   "mimetype": "text/x-python",
   "name": "python",
   "nbconvert_exporter": "python",
   "pygments_lexer": "ipython3",
   "version": "3.12.0"
  }
 },
 "nbformat": 4,
 "nbformat_minor": 2
}
