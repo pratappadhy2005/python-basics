{
 "cells": [
  {
   "cell_type": "code",
   "execution_count": 2,
   "metadata": {},
   "outputs": [
    {
     "name": "stdout",
     "output_type": "stream",
     "text": [
      "<class 'dict'>\n"
     ]
    }
   ],
   "source": [
    "## Creating Dictionary\n",
    "empty_dictionary = {}\n",
    "print(type(empty_dictionary))"
   ]
  },
  {
   "cell_type": "code",
   "execution_count": 3,
   "metadata": {},
   "outputs": [
    {
     "data": {
      "text/plain": [
       "{}"
      ]
     },
     "execution_count": 3,
     "metadata": {},
     "output_type": "execute_result"
    }
   ],
   "source": [
    "empty_dictionary = dict()\n",
    "empty_dictionary"
   ]
  },
  {
   "cell_type": "code",
   "execution_count": 5,
   "metadata": {},
   "outputs": [
    {
     "name": "stdout",
     "output_type": "stream",
     "text": [
      "<class 'dict'>\n"
     ]
    }
   ],
   "source": [
    "student = {\"name\":\"Pratap\", \"age\":20}\n",
    "student\n",
    "print(type(student))"
   ]
  },
  {
   "cell_type": "code",
   "execution_count": 9,
   "metadata": {},
   "outputs": [
    {
     "name": "stdout",
     "output_type": "stream",
     "text": [
      "{'name': 'Prayan', 'age': 20}\n"
     ]
    }
   ],
   "source": [
    "## Error\n",
    "# Single key is always preferred\n",
    "student = {\"name\":\"Pratap\", \"age\":20, \"name\":\"Prayan\"}\n",
    "print(student)"
   ]
  },
  {
   "cell_type": "code",
   "execution_count": 15,
   "metadata": {},
   "outputs": [
    {
     "name": "stdout",
     "output_type": "stream",
     "text": [
      "Pratap\n",
      "20\n",
      "Pratap\n"
     ]
    }
   ],
   "source": [
    "## Accessing dictionary elements\n",
    "student = {\"name\":\"Pratap\", \"age\":20}\n",
    "print(student['name'])\n",
    "print(student['age'])\n",
    "\n",
    "print(student.get('name'))"
   ]
  },
  {
   "cell_type": "code",
   "execution_count": 16,
   "metadata": {},
   "outputs": [
    {
     "name": "stdout",
     "output_type": "stream",
     "text": [
      "Padhy\n"
     ]
    }
   ],
   "source": [
    "print(student.get('last_name', 'Padhy'))"
   ]
  },
  {
   "cell_type": "code",
   "execution_count": 17,
   "metadata": {},
   "outputs": [
    {
     "name": "stdout",
     "output_type": "stream",
     "text": [
      "{'name': 'Pratap', 'age': 20}\n"
     ]
    }
   ],
   "source": [
    "## Modifying Dictionary values\n",
    "##Dictionary is immutable\n",
    "print(student)"
   ]
  },
  {
   "cell_type": "code",
   "execution_count": 19,
   "metadata": {},
   "outputs": [
    {
     "name": "stdout",
     "output_type": "stream",
     "text": [
      "{'name': 'Pratap', 'age': 33, 'section': 'D'}\n"
     ]
    }
   ],
   "source": [
    "student['section'] = 'D'\n",
    "print(student)"
   ]
  },
  {
   "cell_type": "code",
   "execution_count": 20,
   "metadata": {},
   "outputs": [
    {
     "name": "stdout",
     "output_type": "stream",
     "text": [
      "{'age': 33, 'section': 'D'}\n"
     ]
    }
   ],
   "source": [
    "del student['name']\n",
    "print(student)"
   ]
  },
  {
   "cell_type": "code",
   "execution_count": 24,
   "metadata": {},
   "outputs": [
    {
     "name": "stdout",
     "output_type": "stream",
     "text": [
      "dict_keys(['age', 'section'])\n",
      "dict_values([33, 'D'])\n",
      "dict_items([('age', 33), ('section', 'D')])\n"
     ]
    }
   ],
   "source": [
    "## Dcitionary common methods\n",
    "keys = student.keys()\n",
    "print(keys)\n",
    "print(student.values())\n",
    "print(student.items())"
   ]
  },
  {
   "cell_type": "code",
   "execution_count": 25,
   "metadata": {},
   "outputs": [
    {
     "name": "stdout",
     "output_type": "stream",
     "text": [
      "{'age': 33, 'section': 'D'}\n"
     ]
    }
   ],
   "source": [
    "## Shallow copy\n",
    "student_copy = student.copy()\n",
    "print(student_copy)"
   ]
  },
  {
   "cell_type": "code",
   "execution_count": 26,
   "metadata": {},
   "outputs": [
    {
     "name": "stdout",
     "output_type": "stream",
     "text": [
      "{'age': 33, 'section': 'D', 'name': 'Krish2'}\n",
      "{'age': 33, 'section': 'D'}\n"
     ]
    }
   ],
   "source": [
    "student['name'] = 'Krish2'\n",
    "print(student)\n",
    "print(student_copy)\n"
   ]
  },
  {
   "cell_type": "code",
   "execution_count": 3,
   "metadata": {},
   "outputs": [
    {
     "name": "stdout",
     "output_type": "stream",
     "text": [
      "name : Pratap\n",
      "age : 20\n"
     ]
    }
   ],
   "source": [
    "## Iterate dictionary\n",
    "## You can use loops to iterate dictionary\n",
    "student = {\"name\":\"Pratap\", \"age\":20}\n",
    "for key, value in student.items():\n",
    "    print(f\"{key} : {value}\")\n"
   ]
  },
  {
   "cell_type": "code",
   "execution_count": 2,
   "metadata": {},
   "outputs": [
    {
     "name": "stdout",
     "output_type": "stream",
     "text": [
      "Pratap\n",
      "20\n"
     ]
    }
   ],
   "source": [
    "for value in student.values():\n",
    "    print(value)"
   ]
  },
  {
   "cell_type": "code",
   "execution_count": 6,
   "metadata": {},
   "outputs": [
    {
     "name": "stdout",
     "output_type": "stream",
     "text": [
      "{'student1': {'name': 'Pratap', 'age': 30, 'city': 'BBSR'}, 'student2': {'name': 'Suchi', 'age': 28, 'city': 'BAM'}}\n"
     ]
    }
   ],
   "source": [
    "## Nested dictionary\n",
    "students = {\n",
    "    \"student1\" : {\n",
    "        \"name\": \"Pratap\",\n",
    "        \"age\" : 30,\n",
    "        \"city\": \"BBSR\"\n",
    "    },\n",
    "    \"student2\" : {\n",
    "        \"name\": \"Suchi\",\n",
    "        \"age\": 28,\n",
    "        \"city\": \"BAM\"\n",
    "    },\n",
    "}\n",
    "\n",
    "print(students)"
   ]
  },
  {
   "cell_type": "code",
   "execution_count": 7,
   "metadata": {},
   "outputs": [
    {
     "name": "stdout",
     "output_type": "stream",
     "text": [
      "name\n",
      "age\n",
      "city\n",
      "name\n",
      "age\n",
      "city\n"
     ]
    }
   ],
   "source": [
    "## Iterate over nested dictionary\n",
    "for studentss in students.values():\n",
    "    for student in studentss:\n",
    "        print(student)"
   ]
  },
  {
   "cell_type": "code",
   "execution_count": null,
   "metadata": {},
   "outputs": [],
   "source": [
    "## Dictionary comprehension\n",
    "squares  = {x: x*x for x in range(6)}"
   ]
  }
 ],
 "metadata": {
  "kernelspec": {
   "display_name": "Python 3",
   "language": "python",
   "name": "python3"
  },
  "language_info": {
   "codemirror_mode": {
    "name": "ipython",
    "version": 3
   },
   "file_extension": ".py",
   "mimetype": "text/x-python",
   "name": "python",
   "nbconvert_exporter": "python",
   "pygments_lexer": "ipython3",
   "version": "3.12.0"
  }
 },
 "nbformat": 4,
 "nbformat_minor": 2
}
