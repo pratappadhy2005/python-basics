{
 "cells": [
  {
   "cell_type": "code",
   "execution_count": 1,
   "metadata": {},
   "outputs": [
    {
     "name": "stdout",
     "output_type": "stream",
     "text": [
      "[]\n"
     ]
    }
   ],
   "source": [
    "list = []\n",
    "print(list)"
   ]
  },
  {
   "cell_type": "code",
   "execution_count": 2,
   "metadata": {},
   "outputs": [
    {
     "name": "stdout",
     "output_type": "stream",
     "text": [
      "['John', 'Jane', 'Jim', 'Jill']\n",
      "['John', 'Jane', 'Jim', 'Jill', 'Jack']\n",
      "['John', 'John', 'Jane', 'Jim', 'Jill', 'Jack']\n"
     ]
    }
   ],
   "source": [
    "names = [\"John\", \"Jane\", \"Jim\", \"Jill\"]\n",
    "print(names)\n",
    "names.append(\"Jack\")\n",
    "print(names)\n",
    "names.insert(0, \"John\")\n",
    "print(names)\n"
   ]
  },
  {
   "cell_type": "code",
   "execution_count": 3,
   "metadata": {},
   "outputs": [
    {
     "name": "stdout",
     "output_type": "stream",
     "text": [
      "[1, 'Hello', True, 4.5]\n",
      "[[1, 2, 3], [4, 5, 6], [7, 8, 9]]\n"
     ]
    }
   ],
   "source": [
    "mixed_list = [1, \"Hello\", True, 4.5]\n",
    "print(mixed_list)\n",
    "\n",
    "nested_list = [[1, 2, 3], [4, 5, 6], [7, 8, 9]]\n",
    "print(nested_list)\n",
    "\n"
   ]
  },
  {
   "cell_type": "code",
   "execution_count": 6,
   "metadata": {},
   "outputs": [
    {
     "name": "stdout",
     "output_type": "stream",
     "text": [
      "Jack\n",
      "Jill\n",
      "Jim\n",
      "Jane\n",
      "John\n"
     ]
    }
   ],
   "source": [
    "## Accessing Elements\n",
    "\n",
    "print(names[-1])\n",
    "print(names[-2])\n",
    "print(names[-3])\n",
    "print(names[-4])\n",
    "print(names[-5])\n",
    "\n"
   ]
  },
  {
   "cell_type": "code",
   "execution_count": 8,
   "metadata": {},
   "outputs": [
    {
     "name": "stdout",
     "output_type": "stream",
     "text": [
      "['John', 'John', 'Jane']\n"
     ]
    }
   ],
   "source": [
    "print(names[0:3])"
   ]
  },
  {
   "cell_type": "code",
   "execution_count": 9,
   "metadata": {},
   "outputs": [
    {
     "name": "stdout",
     "output_type": "stream",
     "text": [
      "['John', 'John', 'Jane', 'Jim', 'Jill', 'Jack', 'Pratap']\n",
      "['Prayan', 'John', 'John', 'Jane', 'Jim', 'Jill', 'Jack', 'Pratap']\n"
     ]
    }
   ],
   "source": [
    "# List methods\n",
    "\n",
    "names.append(\"Pratap\")\n",
    "print(names)\n",
    "names.insert(0, \"Prayan\")\n",
    "print(names)\n"
   ]
  },
  {
   "cell_type": "code",
   "execution_count": 10,
   "metadata": {},
   "outputs": [
    {
     "name": "stdout",
     "output_type": "stream",
     "text": [
      "['Prayan', 'John', 'John', 'Jane', 'Jim', 'Jill', 'Jack']\n",
      "['Prayan', 'John', 'John', 'Jane', 'Jim', 'Jill']\n",
      "['John', 'John', 'Jane', 'Jim', 'Jill']\n"
     ]
    }
   ],
   "source": [
    "# Remove\n",
    "names.remove(\"Pratap\")\n",
    "print(names)\n",
    "names.pop()\n",
    "print(names)\n",
    "names.pop(0)\n",
    "print(names)"
   ]
  },
  {
   "cell_type": "code",
   "execution_count": 13,
   "metadata": {},
   "outputs": [
    {
     "name": "stdout",
     "output_type": "stream",
     "text": [
      "['apple', 'banana', 'cherry', 'date', 'elderberry']\n",
      "['elderberry', 'date', 'cherry', 'banana', 'apple']\n",
      "[]\n",
      "['grape', 'kiwi', 'mango']\n"
     ]
    }
   ],
   "source": [
    "fruits = [\"apple\", \"banana\", \"cherry\", \"date\", \"elderberry\"]\n",
    "fruits.sort()\n",
    "print(fruits)\n",
    "fruits.reverse()\n",
    "print(fruits)\n",
    "\n",
    "fruits.clear()\n",
    "print(fruits)\n",
    "\n",
    "fruits.extend([\"grape\", \"kiwi\", \"mango\"])\n",
    "print(fruits)\n",
    "\n"
   ]
  },
  {
   "cell_type": "code",
   "execution_count": 16,
   "metadata": {},
   "outputs": [
    {
     "name": "stdout",
     "output_type": "stream",
     "text": [
      "[1, 2, 3]\n",
      "[1, 2, 3]\n",
      "[4, 5, 6, 7, 8, 9, 10]\n",
      "[1, 2, 3, 4, 5, 6, 7, 8, 9, 10]\n",
      "[1, 3, 5, 7, 9]\n",
      "[10, 9, 8, 7, 6, 5, 4, 3, 2, 1]\n"
     ]
    }
   ],
   "source": [
    "## Slicing\n",
    "numbers = [1, 2, 3, 4, 5, 6, 7, 8, 9, 10]\n",
    "print(numbers[0:3])\n",
    "print(numbers[:3])\n",
    "print(numbers[3:])\n",
    "print(numbers[:])\n",
    "print(numbers[::2])\n",
    "print(numbers[::-1])\n",
    "\n",
    "\n",
    "## List Comprehensions\n",
    "\n"
   ]
  },
  {
   "cell_type": "code",
   "execution_count": null,
   "metadata": {},
   "outputs": [],
   "source": [
    "## Iterating over lists\n",
    "\n",
    "for name in names:\n",
    "    print(name)\n",
    "\n",
    "for number in numbers:\n",
    "    print(number)"
   ]
  },
  {
   "cell_type": "code",
   "execution_count": 2,
   "metadata": {},
   "outputs": [
    {
     "name": "stdout",
     "output_type": "stream",
     "text": [
      "0 1\n",
      "1 2\n",
      "2 3\n",
      "3 4\n",
      "4 5\n",
      "5 6\n",
      "6 7\n",
      "7 8\n",
      "8 9\n",
      "9 10\n"
     ]
    }
   ],
   "source": [
    "#enumerate with index\n",
    "numbers = [1, 2, 3, 4, 5, 6, 7, 8, 9, 10]\n",
    "for index, number in enumerate(numbers):\n",
    "    print(index,number)"
   ]
  },
  {
   "cell_type": "code",
   "execution_count": 7,
   "metadata": {},
   "outputs": [
    {
     "name": "stdout",
     "output_type": "stream",
     "text": [
      "[0, 1, 4, 9, 16, 25, 36, 49, 64, 81]\n"
     ]
    }
   ],
   "source": [
    "# List compreshension\n",
    "lst = []\n",
    "for x in range(10):\n",
    "    lst.append(x**2)\n",
    "print(lst)"
   ]
  },
  {
   "cell_type": "code",
   "execution_count": 4,
   "metadata": {},
   "outputs": [
    {
     "name": "stdout",
     "output_type": "stream",
     "text": [
      "[[1, 6], [1, 7], [1, 8], [4, 6], [4, 7], [4, 8], [5, 6], [5, 7], [5, 8]]\n"
     ]
    }
   ],
   "source": [
    "lst1= [1,4,5]\n",
    "lst2=[6,7,8]\n",
    "pair = [[i,j] for i in lst1 for j in lst2]\n",
    "\n",
    "print (pair)"
   ]
  },
  {
   "cell_type": "code",
   "execution_count": null,
   "metadata": {},
   "outputs": [],
   "source": []
  }
 ],
 "metadata": {
  "kernelspec": {
   "display_name": "Python 3",
   "language": "python",
   "name": "python3"
  },
  "language_info": {
   "codemirror_mode": {
    "name": "ipython",
    "version": 3
   },
   "file_extension": ".py",
   "mimetype": "text/x-python",
   "name": "python",
   "nbconvert_exporter": "python",
   "pygments_lexer": "ipython3",
   "version": "3.12.0"
  }
 },
 "nbformat": 4,
 "nbformat_minor": 2
}
