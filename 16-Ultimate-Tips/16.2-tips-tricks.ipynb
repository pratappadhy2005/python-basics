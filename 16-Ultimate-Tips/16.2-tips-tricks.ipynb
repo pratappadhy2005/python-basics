{
 "cells": [
  {
   "cell_type": "code",
   "execution_count": 2,
   "metadata": {},
   "outputs": [
    {
     "name": "stdout",
     "output_type": "stream",
     "text": [
      "Before text -> 50\n",
      "After 50 -> text\n"
     ]
    }
   ],
   "source": [
    "## Swapping valiable\n",
    "\n",
    "a: str = 'text'\n",
    "b: int = 50\n",
    "\n",
    "print(f'Before {a} -> {b}')\n",
    "a, b = b,a\n",
    "print(f'After {a} -> {b}')"
   ]
  },
  {
   "cell_type": "code",
   "execution_count": 4,
   "metadata": {},
   "outputs": [
    {
     "name": "stdout",
     "output_type": "stream",
     "text": [
      "[10, 9, 8, 7, 6, 5, 4, 3, 2, 1]\n",
      "dlroW olleH\n"
     ]
    }
   ],
   "source": [
    "## Reverse an iterable\n",
    "\n",
    "numbers: list[int] = [1,2,3,4,5,6,7,8,9,10]\n",
    "greeting: str = 'Hello World'\n",
    "\n",
    "print(numbers[::-1])\n",
    "print(greeting[::-1])"
   ]
  },
  {
   "cell_type": "code",
   "execution_count": 5,
   "metadata": {},
   "outputs": [
    {
     "name": "stdout",
     "output_type": "stream",
     "text": [
      "Odd\n"
     ]
    }
   ],
   "source": [
    "## one liner condition\n",
    "number : int = 10\n",
    "\n",
    "result: str = 'Even' if 1/2 == 0 else 'Odd'\n",
    "\n",
    "print(result)"
   ]
  },
  {
   "cell_type": "code",
   "execution_count": 6,
   "metadata": {},
   "outputs": [
    {
     "name": "stdout",
     "output_type": "stream",
     "text": [
      "Emails: pratap@gmail.com, prayan@gmail.com\n"
     ]
    }
   ],
   "source": [
    "## Format string using join\n",
    "emails: list[str] = ['pratap@gmail.com', 'prayan@gmail.com']\n",
    "\n",
    "print(f'Emails: {', '.join(emails)}')"
   ]
  },
  {
   "cell_type": "code",
   "execution_count": 8,
   "metadata": {},
   "outputs": [
    {
     "name": "stdout",
     "output_type": "stream",
     "text": [
      "DEFAULT\n"
     ]
    }
   ],
   "source": [
    "## Default value from dictionary\n",
    "info: dict[str, str] = {'name': 'Pratap', 'age': '20'}\n",
    "\n",
    "print(info.get('ABC', 'DEFAULT'))"
   ]
  },
  {
   "cell_type": "code",
   "execution_count": null,
   "metadata": {},
   "outputs": [],
   "source": []
  }
 ],
 "metadata": {
  "kernelspec": {
   "display_name": "Python 3",
   "language": "python",
   "name": "python3"
  },
  "language_info": {
   "codemirror_mode": {
    "name": "ipython",
    "version": 3
   },
   "file_extension": ".py",
   "mimetype": "text/x-python",
   "name": "python",
   "nbconvert_exporter": "python",
   "pygments_lexer": "ipython3",
   "version": "3.12.0"
  }
 },
 "nbformat": 4,
 "nbformat_minor": 2
}
