{
 "cells": [
  {
   "cell_type": "code",
   "execution_count": 3,
   "metadata": {},
   "outputs": [
    {
     "name": "stdout",
     "output_type": "stream",
     "text": [
      "[1, 2, 3, 4, 5, 6, 7, 8, 9, 10, 0, 0, 0]\n",
      "[1, 2, 3, 4, 5, 6, 7, 8, 9, 10, 0, 0, 0]\n"
     ]
    }
   ],
   "source": [
    "# Traditional way\n",
    "data = [1,2,3,4,5,6,7,8,9,10, -8, -9, -10]\n",
    "for i in range(len(data)):\n",
    "    if data[i] < 0:\n",
    "        data[i] = 0\n",
    "print(data)\n",
    "\n",
    "# Improved way\n",
    "for idx, num in enumerate(data):\n",
    "    if num < 0:\n",
    "        data[idx] = 0\n",
    "print(data)"
   ]
  },
  {
   "cell_type": "code",
   "execution_count": 2,
   "metadata": {},
   "outputs": [
    {
     "name": "stdout",
     "output_type": "stream",
     "text": [
      "[1, 4, 9, 16, 25, 36, 49, 64, 81]\n",
      "[1, 4, 9, 16, 25]\n"
     ]
    }
   ],
   "source": [
    "## Use Comprehension instead of for loop\n",
    "square = []\n",
    "for i in range(1,10):\n",
    "    square.append(i**2)\n",
    "\n",
    "print(square)\n",
    "\n",
    "## Improved way\n",
    "square = [i**2 for i in range(1,10) if i < 6]\n",
    "print(square)\n"
   ]
  },
  {
   "cell_type": "code",
   "execution_count": 7,
   "metadata": {},
   "outputs": [
    {
     "name": "stdout",
     "output_type": "stream",
     "text": [
      "[9, 6, 5, 5, 5, 4, 3, 3, 2, 1, 1]\n",
      "[{'name': 'Pratap', 'age': 30}, {'name': 'Suchi', 'age': 28}, {'name': 'Krish', 'age': 25}]\n"
     ]
    }
   ],
   "source": [
    "## Sort complex iterables with sorted()\n",
    "data = (3, 1, 4, 1, 5, 9, 2, 6, 5, 3, 5)\n",
    "sorted_data = sorted(data, reverse=True)    \n",
    "print(sorted_data)\n",
    "\n",
    "## Let's take a compelx list\n",
    "\n",
    "data = [{\"name\": \"Pratap\", \"age\": 30}, {\"name\": \"Suchi\", \"age\": 28}, {\"name\": \"Krish\", \"age\": 25}]\n",
    "sorted_date = sorted(data, key = lambda person: person[\"age\"], reverse=True)\n",
    "print(sorted_date)\n",
    "    "
   ]
  },
  {
   "cell_type": "code",
   "execution_count": 8,
   "metadata": {},
   "outputs": [
    {
     "name": "stdout",
     "output_type": "stream",
     "text": [
      "{1, 2, 3, 4, 5}\n",
      "[1, 2, 3, 4, 5]\n",
      "Pratap\n"
     ]
    }
   ],
   "source": [
    "## Store unique values with set\n",
    "my_list = [1, 2, 2, 3, 4, 4, 5]\n",
    "unique_set = set(my_list)\n",
    "print(unique_set)\n",
    "\n",
    "## Improved way\n",
    "unique_list = list(set(my_list))\n",
    "print(unique_list)"
   ]
  },
  {
   "cell_type": "code",
   "execution_count": 10,
   "metadata": {},
   "outputs": [
    {
     "name": "stdout",
     "output_type": "stream",
     "text": [
      "332833500\n",
      "8856\n",
      "332833500\n",
      "200\n"
     ]
    }
   ],
   "source": [
    "## Save memory with generators\n",
    "import sys\n",
    "my_list = []\n",
    "for i in range(1000):\n",
    "    my_list.append(i**2)\n",
    "print(sum(my_list))\n",
    "print(sys.getsizeof(my_list))\n",
    "\n",
    "## Improved way\n",
    "my_generator = (i**2 for i in range(1000))\n",
    "print(sum(my_generator))\n",
    "print(sys.getsizeof(my_generator))\n"
   ]
  },
  {
   "cell_type": "code",
   "execution_count": 4,
   "metadata": {},
   "outputs": [
    {
     "name": "stdout",
     "output_type": "stream",
     "text": [
      "0\n",
      "60\n"
     ]
    }
   ],
   "source": [
    "## Default method when gettign an element from dict\n",
    "my_dict = {\"item1\": 10, \"item2\": 20, \"item3\": 30}\n",
    "count = my_dict.get(\"counter\",0)\n",
    "print(count)\n",
    "\n",
    "count = my_dict.setdefault(\"counter\", 60)\n",
    "print(count)"
   ]
  },
  {
   "cell_type": "code",
   "execution_count": 8,
   "metadata": {},
   "outputs": [
    {
     "name": "stdout",
     "output_type": "stream",
     "text": [
      "Counter({10: 2, 20: 2, 30: 2, 40: 2, 50: 2})\n",
      "2\n"
     ]
    }
   ],
   "source": [
    "##Count hasable object\n",
    "from collections import Counter\n",
    "my_list = [10, 20, 30, 40, 50, 10, 20, 30, 40, 50]\n",
    "counter = Counter(my_list)\n",
    "print(counter)\n",
    "print(counter[10])"
   ]
  },
  {
   "cell_type": "code",
   "execution_count": 9,
   "metadata": {},
   "outputs": [
    {
     "name": "stdout",
     "output_type": "stream",
     "text": [
      "Hello Alex\n"
     ]
    }
   ],
   "source": [
    "## Fromat string\n",
    "name = \"Alex\"\n",
    "my_string = f\"Hello {name}\"\n",
    "print(my_string)"
   ]
  },
  {
   "cell_type": "code",
   "execution_count": 10,
   "metadata": {},
   "outputs": [
    {
     "name": "stdout",
     "output_type": "stream",
     "text": [
      "Hello my friend\n"
     ]
    }
   ],
   "source": [
    "##Concate string\n",
    "list_of_strings = [\"Hello\", \"my\", \"friend\"]\n",
    "my_string = \" \".join(list_of_strings)\n",
    "print(my_string)"
   ]
  },
  {
   "cell_type": "code",
   "execution_count": 11,
   "metadata": {},
   "outputs": [
    {
     "name": "stdout",
     "output_type": "stream",
     "text": [
      "{'name': 'Alex', 'age': 25, 'city': 'New York'}\n"
     ]
    }
   ],
   "source": [
    "## Merge dictionary\n",
    "d1 = {\"name\": \"Alex\", \"age\": 25}\n",
    "d2 = {\"name\": \"Alex\", \"city\": \"New York\"}\n",
    "merged_dict = {**d1, **d2}\n",
    "print(merged_dict)"
   ]
  },
  {
   "cell_type": "code",
   "execution_count": 12,
   "metadata": {},
   "outputs": [
    {
     "name": "stdout",
     "output_type": "stream",
     "text": [
      "a is less than b and b is less than c\n",
      "a is less than b and b is less than c\n"
     ]
    }
   ],
   "source": [
    "## simplify if statement for multiple checks\n",
    "a = 10\n",
    "b = 20\n",
    "c = 30\n",
    "if a < b and b < c:\n",
    "    print(\"a is less than b and b is less than c\")\n",
    "\n",
    "if a < b < c:\n",
    "    print(\"a is less than b and b is less than c\")\n"
   ]
  },
  {
   "cell_type": "code",
   "execution_count": null,
   "metadata": {},
   "outputs": [],
   "source": []
  }
 ],
 "metadata": {
  "kernelspec": {
   "display_name": "Python 3",
   "language": "python",
   "name": "python3"
  },
  "language_info": {
   "codemirror_mode": {
    "name": "ipython",
    "version": 3
   },
   "file_extension": ".py",
   "mimetype": "text/x-python",
   "name": "python",
   "nbconvert_exporter": "python",
   "pygments_lexer": "ipython3",
   "version": "3.12.0"
  }
 },
 "nbformat": 4,
 "nbformat_minor": 2
}
