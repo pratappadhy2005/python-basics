{
 "cells": [
  {
   "cell_type": "code",
   "execution_count": 2,
   "metadata": {},
   "outputs": [
    {
     "name": "stdout",
     "output_type": "stream",
     "text": [
      "Error: Division by zero\n"
     ]
    }
   ],
   "source": [
    "### Exception try , exceppt block\n",
    "\n",
    "try:\n",
    "    # code that might raise an exception\n",
    "    result = 10 / 0\n",
    "except ZeroDivisionError:\n",
    "    # code that runs if an exception is raised\n",
    "    print(\"Error: Division by zero\")\n"
   ]
  },
  {
   "cell_type": "code",
   "execution_count": 5,
   "metadata": {},
   "outputs": [
    {
     "name": "stdout",
     "output_type": "stream",
     "text": [
      "name 'b' is not defined\n"
     ]
    }
   ],
   "source": [
    "try:\n",
    "    a =b\n",
    "except NameError as ex:\n",
    "    # code that runs if an exception is raised\n",
    "    print(ex)"
   ]
  },
  {
   "cell_type": "code",
   "execution_count": 8,
   "metadata": {},
   "outputs": [
    {
     "name": "stdout",
     "output_type": "stream",
     "text": [
      "An error occurred\n"
     ]
    }
   ],
   "source": [
    "try:\n",
    "    # code that might raise an exception\n",
    "    result = 1/2\n",
    "    a=b\n",
    "except ZeroDivisionError:\n",
    "    # code that runs if an exception is raised\n",
    "    print(\"Error: Division by zero\")\n",
    "except Exception:\n",
    "    print(\"An error occurred\")"
   ]
  },
  {
   "cell_type": "code",
   "execution_count": 11,
   "metadata": {},
   "outputs": [
    {
     "name": "stdout",
     "output_type": "stream",
     "text": [
      "This is not a valid number\n"
     ]
    }
   ],
   "source": [
    "try:\n",
    "    num = int(input(\"Enter a number: \"))\n",
    "    result = 10/num\n",
    "except ValueError:\n",
    "    print('This is not a valid number')\n",
    "except ZeroDivisionError:\n",
    "    print('This is not a valid number')\n",
    "except Exception:\n",
    "    print('An error occurred')\n",
    "    \n"
   ]
  },
  {
   "cell_type": "code",
   "execution_count": 16,
   "metadata": {},
   "outputs": [
    {
     "name": "stdout",
     "output_type": "stream",
     "text": [
      "This will execute if no exception is raised\n",
      "This will always execute\n"
     ]
    }
   ],
   "source": [
    "### try, except, else, finally\n",
    "\n",
    "try:\n",
    "    num = int(input(\"Enter a number: \"))\n",
    "    result = 10/num\n",
    "except ValueError:\n",
    "    print('This is not a valid number')\n",
    "except Exception:\n",
    "    print('An error occurred')\n",
    "else:\n",
    "    print('This will execute if no exception is raised')\n",
    "finally:\n",
    "    print('This will always execute')\n",
    "\n",
    "    "
   ]
  },
  {
   "cell_type": "code",
   "execution_count": null,
   "metadata": {},
   "outputs": [],
   "source": []
  }
 ],
 "metadata": {
  "kernelspec": {
   "display_name": "Python 3",
   "language": "python",
   "name": "python3"
  },
  "language_info": {
   "codemirror_mode": {
    "name": "ipython",
    "version": 3
   },
   "file_extension": ".py",
   "mimetype": "text/x-python",
   "name": "python",
   "nbconvert_exporter": "python",
   "pygments_lexer": "ipython3",
   "version": "3.12.0"
  }
 },
 "nbformat": 4,
 "nbformat_minor": 2
}
