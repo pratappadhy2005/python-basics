{
 "cells": [
  {
   "cell_type": "code",
   "execution_count": 8,
   "metadata": {},
   "outputs": [
    {
     "name": "stdout",
     "output_type": "stream",
     "text": [
      "System name: Galaxy S23\n",
      "Components: ('Microphone', 'Speakers')\n",
      "Component: Microphone\n",
      "Component: Speakers\n",
      "PC details: {'price': 1000, 'color': 'Black', 'camera': '48MP', 'battery': '5000mAh'}\n",
      "price: 1000\n",
      "color: Black\n",
      "camera: 48MP\n",
      "battery: 5000mAh\n"
     ]
    }
   ],
   "source": [
    "def system_specs(system_name, *components, **details):\n",
    "    print(f\"System name: {system_name}\");\n",
    "    print(f\"Components: {components}\");\n",
    "    for component in components:\n",
    "        print(f\"Component: {component}\")\n",
    "\n",
    "    print(f\"PC details: {details}\")\n",
    "    for key, value in details.items():\n",
    "        print(f\"{key}: {value}\")\n",
    "\n",
    "system_specs(\n",
    "    \"Galaxy S23\", \n",
    "    \"Microphone\", \"Speakers\",\n",
    "    price=1000,\n",
    "    color=\"Black\",\n",
    "    camera=\"48MP\",\n",
    "    battery=\"5000mAh\"\n",
    ")"
   ]
  },
  {
   "cell_type": "code",
   "execution_count": 2,
   "metadata": {},
   "outputs": [
    {
     "name": "stdout",
     "output_type": "stream",
     "text": [
      "['apple', 'banana', 'cherry']\n",
      "apple banana cherry\n"
     ]
    }
   ],
   "source": [
    "fruits = [\"apple\", \"banana\", \"cherry\"]\n",
    "\n",
    "print(fruits)\n",
    "print(*fruits)"
   ]
  },
  {
   "cell_type": "code",
   "execution_count": null,
   "metadata": {},
   "outputs": [],
   "source": []
  }
 ],
 "metadata": {
  "kernelspec": {
   "display_name": "Python 3",
   "language": "python",
   "name": "python3"
  },
  "language_info": {
   "codemirror_mode": {
    "name": "ipython",
    "version": 3
   },
   "file_extension": ".py",
   "mimetype": "text/x-python",
   "name": "python",
   "nbconvert_exporter": "python",
   "pygments_lexer": "ipython3",
   "version": "3.10.16"
  }
 },
 "nbformat": 4,
 "nbformat_minor": 2
}
