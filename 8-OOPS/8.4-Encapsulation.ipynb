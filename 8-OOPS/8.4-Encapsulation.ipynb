{
 "cells": [
  {
   "cell_type": "code",
   "execution_count": 20,
   "metadata": {},
   "outputs": [],
   "source": [
    "## Encapsulation with the getter and setter methods\n",
    "## Public, Private and Private variables\n",
    "\n",
    "class Person:\n",
    "    def __init__(self, name, age=0):\n",
    "        self._name = name\n",
    "        self.__age = age\n",
    "\n",
    "    def display(self):\n",
    "        print(self._name)\n",
    "        print(self.__age)\n",
    "\n",
    "    # getter method to return the private variable\n",
    "    def getName(self):\n",
    "        return self._name\n",
    "\n",
    "    # Getter\n",
    "    def getAge(self):\n",
    "        print(self.__age)\n",
    "\n",
    "    #Setter\n",
    "    def setAge(self, age):\n",
    "        self.__age = age\n",
    "\n",
    "class Employee(Person):\n",
    "    def __init__(self, name, age, salary):\n",
    "        super().__init__(name, age)\n",
    "        self.salary = salary\n",
    "\n",
    "    def display(self):\n",
    "        super().display()\n",
    "        print(self.salary)"
   ]
  },
  {
   "cell_type": "code",
   "execution_count": 25,
   "metadata": {},
   "outputs": [
    {
     "name": "stdout",
     "output_type": "stream",
     "text": [
      "90\n",
      "None\n"
     ]
    }
   ],
   "source": [
    "employee = Employee('Pratap', 30, 10000)\n",
    "employee.setAge(90)\n",
    "print(employee.getAge())\n"
   ]
  },
  {
   "cell_type": "code",
   "execution_count": null,
   "metadata": {},
   "outputs": [],
   "source": []
  }
 ],
 "metadata": {
  "kernelspec": {
   "display_name": "Python 3",
   "language": "python",
   "name": "python3"
  },
  "language_info": {
   "codemirror_mode": {
    "name": "ipython",
    "version": 3
   },
   "file_extension": ".py",
   "mimetype": "text/x-python",
   "name": "python",
   "nbconvert_exporter": "python",
   "pygments_lexer": "ipython3",
   "version": "3.12.0"
  }
 },
 "nbformat": 4,
 "nbformat_minor": 2
}
