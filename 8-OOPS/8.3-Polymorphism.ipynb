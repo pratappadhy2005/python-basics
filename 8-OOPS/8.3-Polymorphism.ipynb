{
 "cells": [
  {
   "cell_type": "code",
   "execution_count": 5,
   "metadata": {},
   "outputs": [
    {
     "name": "stdout",
     "output_type": "stream",
     "text": [
      "Animal speaks\n",
      "Dog barks\n",
      "Cat meows\n",
      "Dog barks\n",
      "Cat meows\n"
     ]
    }
   ],
   "source": [
    "## Methods overridding\n",
    "class Animal:\n",
    "    def speak(self):\n",
    "        print(\"Animal speaks\")\n",
    "\n",
    "## Derived Class\n",
    "\n",
    "class Dog(Animal):\n",
    "    def speak(self):\n",
    "        print(\"Dog barks\")\n",
    "\n",
    "class Cat(Animal):\n",
    "    def speak(self):\n",
    "        print(\"Cat meows\")  \n",
    "\n",
    "## Function that demonstarate polymorphism\n",
    "def animal_speak(animal):\n",
    "    animal.speak()\n",
    "\n",
    "animal = Animal()\n",
    "animal.speak()\n",
    "\n",
    "dog = Dog()\n",
    "dog.speak()\n",
    "\n",
    "cat = Cat()\n",
    "cat.speak()\n",
    "\n",
    "## This is method overridding\n",
    "animal_speak(dog)\n",
    "animal_speak(cat)\n"
   ]
  },
  {
   "cell_type": "code",
   "execution_count": 5,
   "metadata": {},
   "outputs": [
    {
     "name": "stdout",
     "output_type": "stream",
     "text": [
      "Area: 50\n",
      "Area: 78.5\n"
     ]
    }
   ],
   "source": [
    "### Polymorphism with fucntions and Methods\n",
    "\n",
    "## Super class\n",
    "class Shape:\n",
    "   def get_area(self):\n",
    "        print(\"Area of the figure\")\n",
    "\n",
    "## Derived class\n",
    "class Rectangle(Shape):\n",
    "    def __init__(self, length, width):\n",
    "        self.length = length\n",
    "        self.width = width\n",
    "\n",
    "    def get_area(self):\n",
    "        return self.length * self.width\n",
    "    \n",
    "## Derived class\n",
    "class Circle(Shape):\n",
    "    def __init__(self, radius):\n",
    "        self.radius = radius\n",
    "\n",
    "    def get_area(self):\n",
    "        return 3.14 * self.radius * self.radius\n",
    "    \n",
    "### Demonstarte polymorphism\n",
    "def print_area(shape):\n",
    "    print(\"Area:\", shape.get_area())\n",
    "\n",
    "rectangle = Rectangle(5, 10)\n",
    "circle = Circle(5)\n",
    "\n",
    "print_area(rectangle)\n",
    "print_area(circle)\n",
    "\n",
    "\n"
   ]
  },
  {
   "cell_type": "code",
   "execution_count": null,
   "metadata": {},
   "outputs": [],
   "source": [
    "### Polymorphism with Abstract base class\n",
    "from abc import ABC, abstractmethod\n",
    "\n",
    "class Shape(ABC):\n",
    "    @abstractmethod\n",
    "    def area(self):\n",
    "        pass\n",
    "\n",
    "class Circle(Shape):\n",
    "    def __init__(self, radius):\n",
    "        self.radius = radius\n",
    "\n",
    "    def area(self):\n",
    "        return 3.14 * self.radius ** 2\n",
    "\n",
    "class Square(Shape):\n",
    "    def __init__(self, side):\n",
    "        self.side = side\n",
    "\n",
    "    def area(self):\n",
    "        return self.side ** 2\n",
    "\n",
    "def calculate_total_area(shapes):\n",
    "    total_area = 0\n",
    "    for shape in shapes:\n",
    "        total_area += shape.area()\n",
    "    return total_area\n",
    "\n",
    "# Example usage:\n",
    "circle = Circle(5)\n",
    "square = Square(4)\n",
    "shapes = [circle, square]\n",
    "total_area = calculate_total_area(shapes)\n",
    "print(\"Total area:\", total_area)"
   ]
  }
 ],
 "metadata": {
  "kernelspec": {
   "display_name": "Python 3",
   "language": "python",
   "name": "python3"
  },
  "language_info": {
   "codemirror_mode": {
    "name": "ipython",
    "version": 3
   },
   "file_extension": ".py",
   "mimetype": "text/x-python",
   "name": "python",
   "nbconvert_exporter": "python",
   "pygments_lexer": "ipython3",
   "version": "3.12.0"
  }
 },
 "nbformat": 4,
 "nbformat_minor": 2
}
