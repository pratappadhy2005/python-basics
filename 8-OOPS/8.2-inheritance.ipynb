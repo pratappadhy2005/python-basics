{
 "cells": [
  {
   "cell_type": "code",
   "execution_count": 2,
   "metadata": {},
   "outputs": [],
   "source": [
    "## Inheritance\n",
    "\n",
    "## Parent Class\n",
    "class Car:\n",
    "    def __init__(self,windows,doors,enginetype):\n",
    "        self.windows = windows\n",
    "        self.doors=doors\n",
    "        self.enginetype=enginetype\n",
    "\n",
    "    def drive(self):\n",
    "        print(f\"The person drives the {self.enginetype} car\")\n",
    "      "
   ]
  },
  {
   "cell_type": "code",
   "execution_count": 3,
   "metadata": {},
   "outputs": [
    {
     "name": "stdout",
     "output_type": "stream",
     "text": [
      "The person drives the Petrol car\n"
     ]
    }
   ],
   "source": [
    "car1= Car(4,5,\"Petrol\")\n",
    "car1.drive()"
   ]
  },
  {
   "cell_type": "code",
   "execution_count": 6,
   "metadata": {},
   "outputs": [
    {
     "name": "stdout",
     "output_type": "stream",
     "text": [
      "The person drives the Electric car\n",
      "The car drives itself using True technology\n"
     ]
    }
   ],
   "source": [
    "## Single inheritance\n",
    "class Tesla(Car):\n",
    "    def __init__(self,windows,doors,enginetype,autonomous):\n",
    "        super().__init__(windows,doors,enginetype)\n",
    "        self.autonomous=autonomous\n",
    "    def self_drive(self):\n",
    "        print(f\"The car drives itself using {self.autonomous} technology\")\n",
    "\n",
    "tesla1= Tesla(4,5,\"Electric\",True)\n",
    "tesla1.drive()\n",
    "tesla1.self_drive()\n"
   ]
  },
  {
   "cell_type": "code",
   "execution_count": 1,
   "metadata": {},
   "outputs": [
    {
     "name": "stdout",
     "output_type": "stream",
     "text": [
      "Lucy is barking\n",
      "John is the owner of the pet\n"
     ]
    }
   ],
   "source": [
    "## Multiple inheritance (More than one more base class)\n",
    "\n",
    "class Animal:\n",
    "    def __init__(self,name):\n",
    "        self.name=name\n",
    "\n",
    "    def eat(self):\n",
    "        print(f\"{self.name} is eating\")\n",
    "        \n",
    "class Pet:\n",
    "    def __init__(self,owner):\n",
    "        self.owner=owner\n",
    "\n",
    "    def play(self):\n",
    "        print(f\"{self.owner} is the owner of the pet\")\n",
    "        \n",
    "class Dog(Animal,Pet):\n",
    "    def __init__(self,name,breed, owner):\n",
    "        Animal.__init__(self,name)\n",
    "        Pet.__init__(self,owner)\n",
    "        self.breed=breed\n",
    "\n",
    "    def bark(self):\n",
    "        print(f\"{self.name} is barking\")\n",
    "\n",
    "dog = Dog(\"Lucy\",\"Labrador\", \"John\")\n",
    "dog.bark()\n",
    "dog.play()\n",
    "\n"
   ]
  },
  {
   "cell_type": "code",
   "execution_count": null,
   "metadata": {},
   "outputs": [],
   "source": []
  }
 ],
 "metadata": {
  "kernelspec": {
   "display_name": "Python 3",
   "language": "python",
   "name": "python3"
  },
  "language_info": {
   "codemirror_mode": {
    "name": "ipython",
    "version": 3
   },
   "file_extension": ".py",
   "mimetype": "text/x-python",
   "name": "python",
   "nbconvert_exporter": "python",
   "pygments_lexer": "ipython3",
   "version": "3.12.0"
  }
 },
 "nbformat": 4,
 "nbformat_minor": 2
}
