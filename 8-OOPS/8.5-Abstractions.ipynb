{
 "cells": [
  {
   "cell_type": "code",
   "execution_count": 3,
   "metadata": {},
   "outputs": [
    {
     "name": "stdout",
     "output_type": "stream",
     "text": [
      "Going in a car\n",
      "Stopping a car\n",
      "Going in a bike\n",
      "Stopping a bike\n"
     ]
    }
   ],
   "source": [
    "from abc import ABC, abstractmethod\n",
    "\n",
    "## Abstract Class\n",
    "class Vehicle(ABC):\n",
    "    def drive(self):\n",
    "        print(\"Driving a vehicle\")\n",
    "\n",
    "    @abstractmethod\n",
    "    def go(self):\n",
    "        pass\n",
    "\n",
    "    @abstractmethod\n",
    "    def stop(self):\n",
    "        pass\n",
    "\n",
    "## Implementation\n",
    "class Car(Vehicle):\n",
    "    def go(self):\n",
    "        print(\"Going in a car\")\n",
    "\n",
    "    def stop(self):\n",
    "        print(\"Stopping a car\")\n",
    "\n",
    "class Bike(Vehicle):\n",
    "    def go(self):\n",
    "        print(\"Going in a bike\")\n",
    "\n",
    "    def stop(self):\n",
    "        print(\"Stopping a bike\")\n",
    "\n",
    "car = Car()\n",
    "car.go()\n",
    "car.stop()\n",
    "\n",
    "\n",
    "bike = Bike()\n",
    "bike.go()\n",
    "bike.stop()"
   ]
  },
  {
   "cell_type": "code",
   "execution_count": null,
   "metadata": {},
   "outputs": [],
   "source": []
  }
 ],
 "metadata": {
  "kernelspec": {
   "display_name": "Python 3",
   "language": "python",
   "name": "python3"
  },
  "language_info": {
   "codemirror_mode": {
    "name": "ipython",
    "version": 3
   },
   "file_extension": ".py",
   "mimetype": "text/x-python",
   "name": "python",
   "nbconvert_exporter": "python",
   "pygments_lexer": "ipython3",
   "version": "3.12.0"
  }
 },
 "nbformat": 4,
 "nbformat_minor": 2
}
