{
 "cells": [
  {
   "cell_type": "code",
   "execution_count": null,
   "metadata": {},
   "outputs": [
    {
     "ename": "TypeError",
     "evalue": "Can't instantiate abstract class Car without an implementation for abstract method 'go'",
     "output_type": "error",
     "traceback": [
      "\u001b[31m---------------------------------------------------------------------------\u001b[39m",
      "\u001b[31mTypeError\u001b[39m                                 Traceback (most recent call last)",
      "\u001b[36mCell\u001b[39m\u001b[36m \u001b[39m\u001b[32mIn[2]\u001b[39m\u001b[32m, line 30\u001b[39m\n\u001b[32m     27\u001b[39m     \u001b[38;5;28;01mdef\u001b[39;00m\u001b[38;5;250m \u001b[39m\u001b[34mstop\u001b[39m(\u001b[38;5;28mself\u001b[39m):\n\u001b[32m     28\u001b[39m         \u001b[38;5;28mprint\u001b[39m(\u001b[33m\"\u001b[39m\u001b[33mStopping a bike\u001b[39m\u001b[33m\"\u001b[39m)\n\u001b[32m---> \u001b[39m\u001b[32m30\u001b[39m car = \u001b[43mCar\u001b[49m\u001b[43m(\u001b[49m\u001b[43m)\u001b[49m\n\u001b[32m     31\u001b[39m car.go()\n\u001b[32m     32\u001b[39m car.stop()\n",
      "\u001b[31mTypeError\u001b[39m: Can't instantiate abstract class Car without an implementation for abstract method 'go'"
     ]
    }
   ],
   "source": [
    "from abc import ABC, abstractmethod\n",
    "\n",
    "## Abstract Class\n",
    "class Vehicle(ABC):\n",
    "    def drive(self):\n",
    "        print(\"Driving a vehicle\")\n",
    "\n",
    "    @abstractmethod\n",
    "    def go(self):\n",
    "        pass\n",
    "\n",
    "    @abstractmethod\n",
    "    def stop(self):\n",
    "        pass\n",
    "\n",
    "## Implementation\n",
    "class Car(Vehicle):\n",
    "    def go(self):\n",
    "        print(\"Going in a car\")\n",
    "\n",
    "    def stop(self):\n",
    "        print(\"Stopping a car\")\n",
    "\n",
    "class Bike(Vehicle):\n",
    "    def go(self):\n",
    "        print(\"Going in a bike\")\n",
    "\n",
    "    def stop(self):\n",
    "        print(\"Stopping a bike\")\n",
    "\n",
    "car = Car()\n",
    "car.go()\n",
    "car.stop()\n",
    "\n",
    "\n",
    "bike = Bike()\n",
    "bike.go()\n",
    "bike.stop()"
   ]
  },
  {
   "cell_type": "code",
   "execution_count": null,
   "metadata": {},
   "outputs": [],
   "source": []
  }
 ],
 "metadata": {
  "kernelspec": {
   "display_name": "Python 3",
   "language": "python",
   "name": "python3"
  },
  "language_info": {
   "codemirror_mode": {
    "name": "ipython",
    "version": 3
   },
   "file_extension": ".py",
   "mimetype": "text/x-python",
   "name": "python",
   "nbconvert_exporter": "python",
   "pygments_lexer": "ipython3",
   "version": "3.12.0"
  }
 },
 "nbformat": 4,
 "nbformat_minor": 2
}
