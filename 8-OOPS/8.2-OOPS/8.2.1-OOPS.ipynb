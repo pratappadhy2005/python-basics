{
 "cells": [
  {
   "cell_type": "code",
   "execution_count": 3,
   "id": "07ffc746",
   "metadata": {},
   "outputs": [],
   "source": [
    "class Car:\n",
    "    pass"
   ]
  },
  {
   "cell_type": "code",
   "execution_count": 4,
   "id": "93a46046",
   "metadata": {},
   "outputs": [],
   "source": [
    "audi = Car()\n",
    "bmw = Car()"
   ]
  },
  {
   "cell_type": "code",
   "execution_count": 5,
   "id": "cb187f4c",
   "metadata": {},
   "outputs": [
    {
     "name": "stdout",
     "output_type": "stream",
     "text": [
      "<class '__main__.Car'>\n"
     ]
    }
   ],
   "source": [
    "print(type(audi))"
   ]
  },
  {
   "cell_type": "code",
   "execution_count": 7,
   "id": "92587c24",
   "metadata": {},
   "outputs": [
    {
     "name": "stdout",
     "output_type": "stream",
     "text": [
      "<__main__.Car object at 0x106516da0>\n",
      "<__main__.Car object at 0x106515480>\n"
     ]
    }
   ],
   "source": [
    "print(audi)\n",
    "print(bmw)"
   ]
  },
  {
   "cell_type": "code",
   "execution_count": 8,
   "id": "66d0216c",
   "metadata": {},
   "outputs": [
    {
     "data": {
      "text/plain": [
       "['__class__',\n",
       " '__delattr__',\n",
       " '__dict__',\n",
       " '__dir__',\n",
       " '__doc__',\n",
       " '__eq__',\n",
       " '__format__',\n",
       " '__ge__',\n",
       " '__getattribute__',\n",
       " '__gt__',\n",
       " '__hash__',\n",
       " '__init__',\n",
       " '__init_subclass__',\n",
       " '__le__',\n",
       " '__lt__',\n",
       " '__module__',\n",
       " '__ne__',\n",
       " '__new__',\n",
       " '__reduce__',\n",
       " '__reduce_ex__',\n",
       " '__repr__',\n",
       " '__setattr__',\n",
       " '__sizeof__',\n",
       " '__str__',\n",
       " '__subclasshook__',\n",
       " '__weakref__']"
      ]
     },
     "execution_count": 8,
     "metadata": {},
     "output_type": "execute_result"
    }
   ],
   "source": [
    "dir(audi)\n"
   ]
  },
  {
   "cell_type": "code",
   "execution_count": 12,
   "id": "f0bd1bbe",
   "metadata": {},
   "outputs": [],
   "source": [
    "class Dog:\n",
    "    ###Constructor\n",
    "    def __init__(self, name, age):\n",
    "        self.name = name\n",
    "        self.age = age"
   ]
  },
  {
   "cell_type": "code",
   "execution_count": 16,
   "id": "e6a059d9",
   "metadata": {},
   "outputs": [
    {
     "name": "stdout",
     "output_type": "stream",
     "text": [
      "<__main__.Dog object at 0x10c1c47f0>\n",
      "2\n",
      "Tommy\n"
     ]
    }
   ],
   "source": [
    "dog = Dog(\"Tommy\", 2)\n",
    "print(dog)\n",
    "\n",
    "print(dog.age)\n",
    "print(dog.name)\n"
   ]
  },
  {
   "cell_type": "code",
   "execution_count": 17,
   "id": "d357a1c2",
   "metadata": {},
   "outputs": [],
   "source": [
    "## Define a class with an instance method\n",
    "class Dog:\n",
    "    def __init__(self, name, age):\n",
    "        self.name = name\n",
    "        self.age = age\n",
    "        \n",
    "    def get_name(self):\n",
    "        return self.name\n",
    "    def get_age(self):\n",
    "        return self.age"
   ]
  },
  {
   "cell_type": "code",
   "execution_count": 19,
   "id": "109ca130",
   "metadata": {},
   "outputs": [
    {
     "name": "stdout",
     "output_type": "stream",
     "text": [
      "Audi\n",
      "2020\n"
     ]
    }
   ],
   "source": [
    "dog = Dog(\"Audi\", 2020)\n",
    "print(dog.get_name())\n",
    "print(dog.get_age())"
   ]
  },
  {
   "cell_type": "code",
   "execution_count": 21,
   "id": "c1279d7c",
   "metadata": {},
   "outputs": [],
   "source": [
    "### Modelling a bank account\n",
    "class BankAccount:\n",
    "    def __init__(self, owner, balance=0):\n",
    "        self.owner = owner\n",
    "        self.balance = balance\n",
    "\n",
    "    def deposit(self, amount):\n",
    "        self.balance += amount\n",
    "        print('Deposit Accepted')\n",
    "\n",
    "    def withdraw(self, amount):\n",
    "        if amount > self.balance:\n",
    "            print('Funds Unavailable')\n",
    "        else:\n",
    "            self.balance -= amount\n",
    "            print('Withdrawal Accepted')\n",
    "    def getBalance(self):\n",
    "        return self.balance"
   ]
  },
  {
   "cell_type": "code",
   "execution_count": 22,
   "id": "fbf213b1",
   "metadata": {},
   "outputs": [
    {
     "name": "stdout",
     "output_type": "stream",
     "text": [
      "1000\n"
     ]
    }
   ],
   "source": [
    "account = BankAccount(\"Prateek\", 1000)\n",
    "print(account.balance)\n"
   ]
  },
  {
   "cell_type": "code",
   "execution_count": 24,
   "id": "53209ea8",
   "metadata": {},
   "outputs": [
    {
     "name": "stdout",
     "output_type": "stream",
     "text": [
      "Deposit Accepted\n",
      "3000\n"
     ]
    }
   ],
   "source": [
    "account.deposit(1000)\n",
    "print(account.balance)\n"
   ]
  },
  {
   "cell_type": "code",
   "execution_count": null,
   "id": "fffce895",
   "metadata": {},
   "outputs": [
    {
     "name": "stdout",
     "output_type": "stream",
     "text": [
      "Withdrawal Accepted\n",
      "2700\n"
     ]
    }
   ],
   "source": [
    "account.withdraw(300)\n",
    "print(account.getBalance())"
   ]
  },
  {
   "cell_type": "code",
   "execution_count": null,
   "id": "72dac06a",
   "metadata": {},
   "outputs": [],
   "source": []
  }
 ],
 "metadata": {
  "kernelspec": {
   "display_name": "Python 3",
   "language": "python",
   "name": "python3"
  },
  "language_info": {
   "codemirror_mode": {
    "name": "ipython",
    "version": 3
   },
   "file_extension": ".py",
   "mimetype": "text/x-python",
   "name": "python",
   "nbconvert_exporter": "python",
   "pygments_lexer": "ipython3",
   "version": "3.10.16"
  }
 },
 "nbformat": 4,
 "nbformat_minor": 5
}
