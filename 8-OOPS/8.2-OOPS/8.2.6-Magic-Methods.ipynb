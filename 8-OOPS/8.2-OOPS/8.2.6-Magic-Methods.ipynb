{
 "cells": [
  {
   "cell_type": "code",
   "execution_count": 1,
   "id": "e53ea6f0",
   "metadata": {},
   "outputs": [
    {
     "name": "stdout",
     "output_type": "stream",
     "text": [
      "Person(Pratappadhy, 30)\n",
      "Person(Pratappadhy, 30)\n",
      "<__main__.Person object at 0x10381ee00>\n"
     ]
    }
   ],
   "source": [
    "### Basic magic methods\n",
    "class Person:\n",
    "    def __init__(self, name, age):\n",
    "        self.name = name\n",
    "        self.age = age\n",
    "\n",
    "    def __str__(self) -> str:\n",
    "        return f\"Person({self.name}, {self.age})\"\n",
    "\n",
    "person = Person(\"Pratappadhy\", 30)\n",
    "print(person)\n",
    "print(person.__str__())\n",
    "print(person.__repr__())\n"
   ]
  },
  {
   "cell_type": "code",
   "execution_count": null,
   "id": "3e18dfbf",
   "metadata": {},
   "outputs": [],
   "source": []
  }
 ],
 "metadata": {
  "kernelspec": {
   "display_name": "Python 3",
   "language": "python",
   "name": "python3"
  },
  "language_info": {
   "codemirror_mode": {
    "name": "ipython",
    "version": 3
   },
   "file_extension": ".py",
   "mimetype": "text/x-python",
   "name": "python",
   "nbconvert_exporter": "python",
   "pygments_lexer": "ipython3",
   "version": "3.10.16"
  }
 },
 "nbformat": 4,
 "nbformat_minor": 5
}
