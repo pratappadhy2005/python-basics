{
 "cells": [
  {
   "cell_type": "code",
   "execution_count": 1,
   "id": "13e09f43",
   "metadata": {},
   "outputs": [],
   "source": [
    "class Car:\n",
    "    def __init__(self, windows, doors, enginetype):\n",
    "        self.windows = windows\n",
    "        self.doors = doors\n",
    "        self.enginetype = enginetype\n",
    "\n",
    "    def drive(self):\n",
    "        print(f\"The person drives the car {self.enginetype}\")\n",
    "\n",
    "    "
   ]
  },
  {
   "cell_type": "code",
   "execution_count": 4,
   "id": "9c6fdc8f",
   "metadata": {},
   "outputs": [
    {
     "name": "stdout",
     "output_type": "stream",
     "text": [
      "4\n",
      "The person drives the car Diesel\n",
      "None\n"
     ]
    }
   ],
   "source": [
    "car1 = Car(4, 5, 'Diesel')\n",
    "print(car1.windows)\n",
    "print(car1.drive())"
   ]
  },
  {
   "cell_type": "code",
   "execution_count": 5,
   "id": "083900fb",
   "metadata": {},
   "outputs": [],
   "source": [
    "class Tesla(Car):\n",
    "    def __init__(self, windows, doors, enginetype, enableai):\n",
    "        super().__init__(windows, doors, enginetype)\n",
    "        self.enableai = enableai\n",
    "    def selfdriving(self):\n",
    "        print(f\"AI is {self.enableai}\")"
   ]
  },
  {
   "cell_type": "code",
   "execution_count": 7,
   "id": "7d136105",
   "metadata": {},
   "outputs": [
    {
     "name": "stdout",
     "output_type": "stream",
     "text": [
      "5\n",
      "AI is True\n",
      "None\n"
     ]
    }
   ],
   "source": [
    "tesla = Tesla(4, 5, 'Diesel', True)\n",
    "print(tesla.doors)\n",
    "print(tesla.selfdriving())"
   ]
  },
  {
   "cell_type": "code",
   "execution_count": 10,
   "id": "58fb7e44",
   "metadata": {},
   "outputs": [
    {
     "name": "stdout",
     "output_type": "stream",
     "text": [
      "Pratap owns Lucy\n"
     ]
    }
   ],
   "source": [
    "### Multiple Inheritence\n",
    "\n",
    "class Animal:\n",
    "    def __init__(self, name):\n",
    "        self.name = name\n",
    "    def speak(self):\n",
    "        print(f\"{self.name} makes a sound\")\n",
    "\n",
    "class Pet:\n",
    "    def __init__(self, owner):\n",
    "        self.owner = owner\n",
    "    def showOwner(self):\n",
    "        print(f\"{self.owner} owns {self.name}\")\n",
    "\n",
    "class Dog(Animal, Pet):\n",
    "    def __init__(self, name, owner, breed):\n",
    "       Animal.__init__(self, name)\n",
    "       Pet.__init__(self, owner)\n",
    "       self.breed = breed\n",
    "    def speak(self):\n",
    "        print(f\"{self.name} barks\")\n",
    "\n",
    "dog = Dog(\"Lucy\", \"Pratap\", \"Labrador\")\n",
    "dog.showOwner()\n"
   ]
  },
  {
   "cell_type": "code",
   "execution_count": null,
   "id": "96f164c3",
   "metadata": {},
   "outputs": [],
   "source": []
  }
 ],
 "metadata": {
  "kernelspec": {
   "display_name": "Python 3",
   "language": "python",
   "name": "python3"
  },
  "language_info": {
   "codemirror_mode": {
    "name": "ipython",
    "version": 3
   },
   "file_extension": ".py",
   "mimetype": "text/x-python",
   "name": "python",
   "nbconvert_exporter": "python",
   "pygments_lexer": "ipython3",
   "version": "3.10.16"
  }
 },
 "nbformat": 4,
 "nbformat_minor": 5
}
