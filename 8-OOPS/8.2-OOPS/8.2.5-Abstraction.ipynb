{
 "cells": [
  {
   "cell_type": "code",
   "execution_count": 3,
   "id": "da0e124f",
   "metadata": {},
   "outputs": [],
   "source": [
    "from abc import ABC, abstractmethod\n",
    "\n",
    "##My Abstract class\n",
    "class Vehicle(ABC):\n",
    "    @abstractmethod\n",
    "    def start(self):\n",
    "        pass\n",
    "    @abstractmethod\n",
    "    def stop(self):\n",
    "        pass\n",
    "    @abstractmethod\n",
    "    def drive(self):\n",
    "        pass\n"
   ]
  },
  {
   "cell_type": "code",
   "execution_count": 8,
   "id": "0bb1c378",
   "metadata": {},
   "outputs": [
    {
     "name": "stdout",
     "output_type": "stream",
     "text": [
      "Audi Started\n",
      "Audi Stopped\n"
     ]
    }
   ],
   "source": [
    "class Audi(Vehicle):\n",
    "    def start(self):\n",
    "        print(\"Audi Started\")\n",
    "    def stop(self):\n",
    "        print(\"Audi Stopped\")\n",
    "    def drive(self):\n",
    "        print(\"Audi is driving\")\n",
    "\n",
    "\n",
    "def operate_vehicle(vehicle):\n",
    "    vehicle.start()\n",
    "    vehicle.stop()\n",
    "\n",
    "\n",
    "audi = Audi()\n",
    "operate_vehicle(audi)"
   ]
  },
  {
   "cell_type": "code",
   "execution_count": null,
   "id": "7323f65b",
   "metadata": {},
   "outputs": [],
   "source": []
  }
 ],
 "metadata": {
  "kernelspec": {
   "display_name": "Python 3",
   "language": "python",
   "name": "python3"
  },
  "language_info": {
   "codemirror_mode": {
    "name": "ipython",
    "version": 3
   },
   "file_extension": ".py",
   "mimetype": "text/x-python",
   "name": "python",
   "nbconvert_exporter": "python",
   "pygments_lexer": "ipython3",
   "version": "3.10.16"
  }
 },
 "nbformat": 4,
 "nbformat_minor": 5
}
