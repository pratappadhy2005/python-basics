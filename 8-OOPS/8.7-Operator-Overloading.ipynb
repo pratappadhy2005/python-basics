{
 "cells": [
  {
   "cell_type": "code",
   "execution_count": 1,
   "metadata": {},
   "outputs": [
    {
     "data": {
      "text/plain": [
       "2"
      ]
     },
     "execution_count": 1,
     "metadata": {},
     "output_type": "execute_result"
    }
   ],
   "source": [
    "1+1"
   ]
  },
  {
   "cell_type": "code",
   "execution_count": null,
   "metadata": {},
   "outputs": [],
   "source": [
    "## Overload operators\n",
    "\n",
    "class Vector:\n",
    "    def __init__(self, x, y):\n",
    "        self.x = x\n",
    "        self.y = y\n",
    "\n",
    "    def __str__(self):\n",
    "        return f\"Vector({self.x}, {self.y})\"\n",
    "\n",
    "    def __add__(self, other):\n",
    "        return Vector(self.x + other.x, self.y + other.y)\n",
    "\n",
    "    def __sub__(self, other):\n",
    "        return Vector(self.x - other.x, self.y - other.y)\n",
    "\n",
    "    def __mul__(self, other):\n",
    "        return Vector(self.x * other.x, self.y * other.y)\n",
    "\n",
    "    def __truediv__(self, other):\n",
    "        return Vector(self.x / other.x, self.y / other.y)\n",
    "\n",
    "    def __floordiv__(self, other):\n",
    "        return Vector(self.x // other.x, self.y // other.y)\n",
    "\n",
    "    def __mod__(self, other):\n",
    "        return Vector(self.x % other.x, self.y % other.y)\n",
    "\n",
    "    def __pow__(self, other):\n",
    "        return Vector(self.x ** other.x, self.y ** other.y)\n",
    "\n",
    "    def __lt__(self, other):\n",
    "        return self.x < other.x and self.y < other.y\n",
    "\n",
    "    def __le__(self, other):\n",
    "        return self.x <= other.x and self.y <= other.y\n",
    "\n",
    "    def __eq__(self, other):\n",
    "        return self.x == other.x and self.y == other.y\n",
    "\n",
    "    def __ne__(self, other):\n",
    "        return self.x != other.x and self.y != other.y\n",
    "\n",
    "    def __gt__(self, other):\n",
    "        return self.x > other.x and self.y > other.y\n",
    "\n",
    "    def __ge__(self, other):\n",
    "        return self.x >= other.x and self.y >= other.y\n",
    "    \n",
    "\n",
    "vector1 = Vector(1, 2)\n",
    "vector2 = Vector(3, 4)\n",
    "\n",
    "print(vector1 + vector2)\n",
    "print(vector1 - vector2)\n",
    "print(vector1 * vector2)\n",
    "print(vector1 / vector2)\n",
    "print(vector1 // vector2)\n",
    "print(vector1 % vector2)\n",
    "print(vector1 ** vector2)\n",
    "print(vector1 < vector2)\n",
    "print(vector1 <= vector2)\n",
    "print(vector1 == vector2)\n",
    "print(vector1 != vector2)\n",
    "print(vector1 > vector2)\n",
    "print(vector1 >= vector2)\n"
   ]
  }
 ],
 "metadata": {
  "kernelspec": {
   "display_name": "Python 3",
   "language": "python",
   "name": "python3"
  },
  "language_info": {
   "codemirror_mode": {
    "name": "ipython",
    "version": 3
   },
   "file_extension": ".py",
   "mimetype": "text/x-python",
   "name": "python",
   "nbconvert_exporter": "python",
   "pygments_lexer": "ipython3",
   "version": "3.12.0"
  }
 },
 "nbformat": 4,
 "nbformat_minor": 2
}
