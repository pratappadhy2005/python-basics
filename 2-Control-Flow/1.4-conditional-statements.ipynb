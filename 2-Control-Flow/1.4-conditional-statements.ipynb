{
 "cells": [
  {
   "cell_type": "code",
   "execution_count": 7,
   "metadata": {},
   "outputs": [
    {
     "name": "stdout",
     "output_type": "stream",
     "text": [
      "you are senior citizen\n"
     ]
    }
   ],
   "source": [
    "## if statements\n",
    "\n",
    "age = 51\n",
    "\n",
    "if age > 18 and age <50:\n",
    "    print(\"you are an adult\")\n",
    "elif age > 50:\n",
    "    print(\"you are senior citizen\")\n",
    "else:\n",
    "    print(\"you are a minor\")"
   ]
  },
  {
   "cell_type": "code",
   "execution_count": null,
   "metadata": {},
   "outputs": [],
   "source": []
  }
 ],
 "metadata": {
  "kernelspec": {
   "display_name": "Python 3",
   "language": "python",
   "name": "python3"
  },
  "language_info": {
   "codemirror_mode": {
    "name": "ipython",
    "version": 3
   },
   "file_extension": ".py",
   "mimetype": "text/x-python",
   "name": "python",
   "nbconvert_exporter": "python",
   "pygments_lexer": "ipython3",
   "version": "3.12.0"
  }
 },
 "nbformat": 4,
 "nbformat_minor": 2
}
